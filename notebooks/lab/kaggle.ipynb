{
 "cells": [
  {
   "cell_type": "markdown",
   "metadata": {},
   "source": [
    "# Kaggle Dataset Upload Lab"
   ]
  },
  {
   "cell_type": "code",
   "execution_count": 1,
   "metadata": {},
   "outputs": [],
   "source": [
    "import pandas as pd\n",
    "import os\n",
    "from genailab.assets.idgen import DatasetIDGen\n",
    "from genailab.container import GenAILabContainer\n",
    "from genailab.core.flow import StageDef, PhaseDef\n",
    "from genailab.infra.utils.file.io import IOService\n",
    "from genailab.infra.config.app import AppConfigReader\n",
    "from genailab.infra.persistence.cloud.kaggle import KaggleService\n",
    "\n",
    "pd.options.display.max_rows = 999"
   ]
  },
  {
   "cell_type": "code",
   "execution_count": 2,
   "metadata": {},
   "outputs": [],
   "source": [
    "config_reader = AppConfigReader()\n",
    "env = config_reader.get_environment()\n",
    "username = config_reader.get_env_var(\"KAGGLE_USERNAME\")\n",
    "filepath = os.path.join(\"data\", \"stage\", env, \"reviews.csv\")\n",
    "title = f\"AppVoCAI Reviews Dataset ({env.upper()})\""
   ]
  },
  {
   "cell_type": "markdown",
   "metadata": {},
   "source": [
    "## Load Dataset"
   ]
  },
  {
   "cell_type": "code",
   "execution_count": 3,
   "metadata": {},
   "outputs": [],
   "source": [
    "container = GenAILabContainer()\n",
    "container.init_resources()\n",
    "container.wire(\n",
    "    modules=[\n",
    "        \"genailab.flow.stage.base\",\n",
    "        \"genailab.app.base\",\n",
    "    ],\n",
    ")"
   ]
  },
  {
   "cell_type": "code",
   "execution_count": 4,
   "metadata": {},
   "outputs": [],
   "source": [
    "idg = AssetIDGen()\n",
    "asset_id = idg.get_asset_id(\n",
    "    asset_type=\"dataset\",\n",
    "    phase=PhaseDef.DATAPREP,\n",
    "    stage=StageDef.PREPROCESS,\n",
    "    name=\"review\",\n",
    ")\n",
    "\n",
    "# Instantiate the repository\n",
    "repo = container.persist.repo()\n",
    "# Load the dataset from the repository\n",
    "dataset = repo.get(asset_id, distributed=False)\n",
    "df = dataset.content"
   ]
  },
  {
   "cell_type": "code",
   "execution_count": null,
   "metadata": {},
   "outputs": [],
   "source": [
    "dataset.asset_id"
   ]
  },
  {
   "cell_type": "markdown",
   "metadata": {},
   "source": [
    "## Stage Dataset"
   ]
  },
  {
   "cell_type": "code",
   "execution_count": 6,
   "metadata": {},
   "outputs": [],
   "source": [
    "reviews = df[[\"id\", \"content\"]]\n",
    "IOService.write(filepath=filepath, data=reviews)"
   ]
  },
  {
   "cell_type": "markdown",
   "metadata": {},
   "source": [
    "## Instantiate Kaggle Service and Upload"
   ]
  },
  {
   "cell_type": "code",
   "execution_count": null,
   "metadata": {},
   "outputs": [],
   "source": [
    "kags = KaggleService(username=username)\n",
    "kags.upload(\n",
    "    filepath=filepath,\n",
    "    title=title,\n",
    "    dataset_name=dataset.asset_id,\n",
    "    private=True,\n",
    ")"
   ]
  },
  {
   "cell_type": "markdown",
   "metadata": {},
   "source": [
    "## Download Dataset from Kaggle"
   ]
  },
  {
   "cell_type": "code",
   "execution_count": 4,
   "metadata": {},
   "outputs": [
    {
     "name": "stdout",
     "output_type": "stream",
     "text": [
      "Warning: Your Kaggle API key is readable by other users on this system! To fix this, you can run 'chmod 600 /home/john/.kaggle/kaggle.json'\n",
      "403 - Forbidden - Permission 'datasets.get' was denied\n"
     ]
    }
   ],
   "source": [
    "# !pip install --user kaggle\n",
    "!kaggle datasets download -d johnjames/sentiment-analysis"
   ]
  }
 ],
 "metadata": {
  "kernelspec": {
   "display_name": "genai",
   "language": "python",
   "name": "python3"
  },
  "language_info": {
   "codemirror_mode": {
    "name": "ipython",
    "version": 3
   },
   "file_extension": ".py",
   "mimetype": "text/x-python",
   "name": "python",
   "nbconvert_exporter": "python",
   "pygments_lexer": "ipython3",
   "version": "3.8.20"
  }
 },
 "nbformat": 4,
 "nbformat_minor": 2
}
