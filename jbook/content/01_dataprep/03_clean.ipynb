{
 "cells": [
  {
   "cell_type": "code",
   "execution_count": 1,
   "metadata": {
    "tags": [
     "remove-cell"
    ]
   },
   "outputs": [],
   "source": [
    "import warnings\n",
    "\n",
    "warnings.filterwarnings(\"ignore\")\n",
    "import os\n",
    "\n",
    "if \"jbook\" in os.getcwd():\n",
    "    os.chdir(os.path.abspath(os.path.join(\"../..\")))\n",
    "FORCE = True"
   ]
  },
  {
   "cell_type": "markdown",
   "metadata": {},
   "source": [
    "# AppVoCAI Dataset Cleaning\n",
    "---\n",
    "In the previous section, we analyzed the AppVoCAI dataset, evaluating its validity, completeness, uniqueness, relevance, and adherence to data privacy concerns. This section is about duplicate deleting, language filtering, artifact removing, PII masking, character normalizing, data cleaning. \n",
    "\n",
    "Our data cleaning methodology focuses on addressing critical data quality issues that could undermine the integrity of downstream analyses, while preserving the text as close to its original form as possible. By adopting this conservative approach, we tackle key issues without sacrificing the nuance and representativeness of the data, ensuring the models are presented with rich, authentic input.\n",
    "\n",
    "## Data Cleaning Key Evaluation Questions (KEQs)\n",
    "---\n",
    "Although, this data cleaning approach comprises many of the preprocessing techniques commonly found in the literature {cite}`symeonidisComparativeEvaluationPreprocessing2018`, the following data cleaning approach is motivated by three guiding questions.\n",
    "\n",
    "1. What’s essential to remove, and what can be left intact to preserve meaning?\n",
    "2. How do we best preserve text richness and nuance?\n",
    "3. How can the data cleaning process best exploit model strengths towards optimal model performance?\n",
    "\n",
    "These Key Evaluation Questions (KEQs) crystallized our approach which balances data quality with model sophistication.\n"
   ]
  },
  {
   "cell_type": "markdown",
   "metadata": {
    "tags": [
     "hide-cell"
    ]
   },
   "source": [
    "### Import Libraries\n",
    "---"
   ]
  },
  {
   "cell_type": "code",
   "execution_count": 2,
   "metadata": {
    "tags": [
     "hide-cell"
    ]
   },
   "outputs": [],
   "source": [
    "from genailab.flow.dataprep.clean.task import DatasetFinalCleaner\n",
    "from genailab.setup import auto_wire_container\n",
    "from genailab.analytics.dqa import DQA\n",
    "from genailab.core.dtypes import DFType\n",
    "from genailab.infra.utils.file.fileset import FileFormat\n",
    "from genailab.flow.dataprep.clean.builder import DataCleaningStageBuilder\n",
    "from genailab.flow.dataprep.dqa.builder import DataQualityAssessmentStageBuilder\n",
    "from genailab.asset.dataset.config import DatasetConfig\n",
    "from genailab.core.flow import PhaseDef, StageDef\n",
    "\n",
    "# Wire container\n",
    "container = auto_wire_container()\n",
    "repo = container.io.repo()"
   ]
  },
  {
   "cell_type": "markdown",
   "metadata": {},
   "source": [
    "## Data Cleaning Approach\n",
    "---\n",
    "The following describes our data cleaning process and steps, executed in the order listed. We begin with 'safe' techniques that carry minimal risk of compromising downstream cleaning tasks. For instance, UTF-8 encoding can impact the accuracy of language detection algorithms, especially if characters carry language-specific information. Removing special characters may compromise the detection of Personally Identifiable Information (PII) such as URLs and email addresses. As the process progresses, steps carry a greater impact on the data, its expressiveness, and representation.\n",
    "\n",
    "Our minimalist, task-specific, model-informed, *leave-as-is* data cleaning process unfolds as follows:\n",
    "\n",
    "1. **Relevance**: Observations containing **non-English text or app names** will be removed to maintain linguistic uniformity within the dataset, which is crucial for consistent language-based analysis. \n",
    "2. **Uniqueness**: For duplicate review IDs, our policy for retention is based on review date. Retaining the most recent review prioritizes review recency, timeliness and relevance. Observations containing duplicate review text will be retained to maximize fidelity to customer experience and expression. \n",
    "3. **Privacy**: Personally identifiable information (PII) such as URLs, email addresses and phone numbers detected in the previous section are removed from the dataset to ensure adherence to data privacy and minimal information policies.\n",
    "4. **Validity**: Replace or remove artifacts, patterns, and noise that do not convey meaningful content, and may compromise dataset validity. Remediations include:\n",
    "    1. **Control Characters**: Remove HTML entities (e.g., `&amp;`, `&#39;`), and non-printable characters from the Unicode and ASCII character sets used to control text flow or hardware devices (e.g., newline, tab, or carriage return). These characters have no analytical value and can interfere with text processing.\n",
    "    2. **Diacritics and Accents**:  We normalize accented characters (e.g., converting `é` to `e`) to reduce unnecessary text variation, which simplifies analysis without compromising the meaning of the content.\n",
    "    3. **Elongation**: Elongated words (e.g., \"soooo\") convey emphasis in informal text, which is valuable for sentiment analysis. We use a threshold approach to limit characters that appear four or more times consecutively to a maximum of three (e.g., \"soooo\" becomes \"sooo\"), preserving emphasis while maintaining readability.\n",
    "    4. **Repetition**: Excess character, sequence, word and phrase repetition is reduced, but not eliminated to perserve artifacts that may signal emphasis.\n",
    "    5. **Special Characters**: Excessive special characters can indicate SPAM, emotional intensity, or nonsensical content. We apply a threshold: if special characters make up more than 35% of the review text, the review is removed.     \n",
    "    6. **Trim Whitespace**: We trim excess whitespace from review text.\n",
    "5. **Non-Informative Reviews**: Reviews that don't match minimum length criteria are removed.\n",
    "\n",
    "\n",
    "### Data Cleaning Techniques Not Implemented\n",
    "---\n",
    "In natural language processing (NLP), text cleaning measures such as lower-casing, contraction and abbreviation expansion, spelling correction, and the removal of emoticons, emojis, and other artifacts are considered standard practice. Given that transformer models are fine-tuned on large user generated content datasets such as the IMDB Movie and SemEval Laptop Reviews dataset, they are highly adept at handling a wide variety of tokens, including emojis, spelling variations, abbreviations and contractions. So, we take a **leave emojis as-is** approach. By leveraging the inherent strengths of transformer - particularly their ability to tokenize subword units and learn from context — we preserve the natural, authentic nature of user-generated content.\n",
    "\n",
    "## Data Cleaning Pipeline\n",
    "---\n",
    "Following our established pipeline construction process, we specify the source and target dataset configurations and obtain an Apache Spark Session to facilitate data processing. "
   ]
  },
  {
   "cell_type": "markdown",
   "metadata": {},
   "source": [
    "> Hey Siri, queue the **Data Cleaning** playlist."
   ]
  },
  {
   "cell_type": "code",
   "execution_count": 3,
   "metadata": {},
   "outputs": [],
   "source": [
    "# Source Dataset Configuration\n",
    "source_config = DatasetConfig(\n",
    "    phase=PhaseDef.DATAPREP,\n",
    "    stage=StageDef.DQA,\n",
    "    name=\"review\",\n",
    "    file_format=FileFormat.PARQUET,\n",
    "    asset_type=\"dataset\",\n",
    "    dftype=DFType.SPARK,\n",
    ")\n",
    "\n",
    "# Target Dataset Configuration\n",
    "target_config = DatasetConfig(\n",
    "    phase=PhaseDef.DATAPREP,\n",
    "    stage=StageDef.SEMICLEAN,\n",
    "    name=\"review\",\n",
    "    file_format=FileFormat.PARQUET,\n",
    "    asset_type=\"dataset\",\n",
    "    dftype=DFType.SPARK,\n",
    ")\n"
   ]
  },
  {
   "cell_type": "code",
   "execution_count": 4,
   "metadata": {},
   "outputs": [
    {
     "name": "stderr",
     "output_type": "stream",
     "text": [
      "your 131072x1 screen size is bogus. expect trouble\n",
      "Setting default log level to \"WARN\".\n",
      "To adjust logging level use sc.setLogLevel(newLevel). For SparkR, use setLogLevel(newLevel).\n"
     ]
    },
    {
     "name": "stdout",
     "output_type": "stream",
     "text": [
      "\n",
      "\n",
      "# ============================================================================== #\n",
      "#                Semi-Clean Data Stage Sun, 09 Feb 2025 00:26:32                 #\n",
      "# ============================================================================== #\n",
      "\n"
     ]
    },
    {
     "name": "stderr",
     "output_type": "stream",
     "text": [
      "                                                                                \r"
     ]
    },
    {
     "name": "stdout",
     "output_type": "stream",
     "text": [
      "\n",
      "Task                                    Start       End         Runtime      Note                   \n",
      "----------------------------------------------------------------------------------------------------\n",
      "PartitionTask                           00:26:37    00:26:41    4.52 seconds Decreased partitions from 14 to 1\n",
      "DetectOrRepairNonEnglishTask            00:26:41    00:26:42    0.1 seconds                         \n",
      "DetectOrRepairNonEnglishTask            00:26:42    00:26:42    0.02 seconds                        \n",
      "DetectOrRepairEmailAddressTask          00:26:42    00:26:42    0.16 seconds                        \n",
      "DetectOrRepairPhoneNumberTask           00:26:42    00:26:42    0.08 seconds                        \n",
      "DetectOrRepairURLTask                   00:26:42    00:26:42    0.09 seconds                        \n",
      "DetectOrRepairUniquenessTask            00:26:42    00:26:42    0.02 seconds                        \n",
      "DetectOrRepairUniquenessTask            00:26:42    00:26:42    0.02 seconds                        \n",
      "DetectOrRepairUniquenessTask            00:26:42    00:26:42    0.02 seconds                        \n",
      "DetectOrRepairCategoryAnomalyTask       00:26:42    00:26:42    0.02 seconds                        \n",
      "DetectOrRepairRatingAnomalyTask         00:26:42    00:26:42    0.02 seconds                        \n",
      "DetectOrRepairReviewDateAnomalyTask     00:26:42    00:26:42    0.02 seconds                        \n",
      "DetectOrRepairElongationTask            00:26:42    00:26:42    0.07 seconds                        \n",
      "DetectOrRepairSpecialCharsTask          00:26:42    00:26:42    0.07 seconds                        \n",
      "DetectOrRepairAccentedCharsTask         00:26:42    00:26:42    0.06 seconds                        \n",
      "DetectOrRepairControlCharsTask          00:26:42    00:26:42    0.09 seconds                        \n",
      "DetectOrRepairHTMLCharsTask             00:26:42    00:26:42    0.06 seconds                        \n",
      "DetectOrRepairExcessiveSpecialCharsTask 00:26:42    00:26:43    0.26 seconds                        \n",
      "DetectOrRepairRepeatedWordsTask         00:26:43    00:26:43    0.05 seconds                        \n",
      "DetectOrRepairRepeatedSequenceTask      00:26:43    00:26:43    0.06 seconds                        \n",
      "DetectOrRepairRepeatedPhraseTask        00:26:43    00:26:43    0.05 seconds                        \n",
      "DetectOrRepairShortReviewsTask          00:26:43    00:26:43    0.11 seconds                        \n",
      "DetectOrRepairExcessiveWhitespaceTask   00:26:43    00:26:43    0.05 seconds                        \n"
     ]
    },
    {
     "name": "stderr",
     "output_type": "stream",
     "text": [
      "[Stage 2:>                                                          (0 + 1) / 1]\r"
     ]
    },
    {
     "name": "stdout",
     "output_type": "stream",
     "text": [
      "____________________________________________________________________________________________________\n",
      "Semi-Clean Data Stage                   00:26:32    00:26:57    25.47 seconds                       \n",
      "\n",
      "\n",
      "# ============================================================================ #\n",
      "\n"
     ]
    },
    {
     "name": "stderr",
     "output_type": "stream",
     "text": [
      "                                                                                \r"
     ]
    }
   ],
   "source": [
    "# Create builder\n",
    "cleaning_stage = (\n",
    "    DataCleaningStageBuilder()\n",
    "    .partition_dataset()\n",
    "    .clean_non_english()\n",
    "    .clean_privacy_issues()\n",
    "    .clean_duplication()\n",
    "    .clean_invalid_values()\n",
    "    .clean_elongation(threshold=3, max_elongation=2)\n",
    "    .clean_special_chars()\n",
    "    .clean_invalid_characters()\n",
    "    .clean_excess_special_chars(threshold=0.35)\n",
    "    .clean_repeated_words(threshold=3, max_repetitions=1)\n",
    "    .clean_repeated_sequences(length_of_sequence=3, threshold=3, max_repetitions=3)\n",
    "    .clean_repeated_phrases(length_of_phrase=2, threshold=2, max_repetitions=2)\n",
    "    .clean_short_reviews(threshold=5)\n",
    "    .clean_excess_whitespace()\n",
    "    .build(source_config=source_config, target_config=target_config)\n",
    ")\n",
    "# Run the stage\n",
    "semiclean_dataset = cleaning_stage.run(force=FORCE)"
   ]
  },
  {
   "cell_type": "markdown",
   "metadata": {},
   "source": [
    "## Data Quality Verification Pipeline\n",
    "---\n",
    "This data quality verification pipeline assesses the degree to which the cleaned dataset meets quality criteria for validity, relevance, completeness, privacy, and uniqueness. Due to the size of the production dataset and the computational cost of performing a full data quality assessment (DQA), this pipeline employs a sampling strategy to efficiently estimate data quality metrics.\n",
    "\n",
    "**Sampling Methodology:**\n",
    "\n",
    "The pipeline uses *random sampling without replacement*. This method ensures that each row in the cleaned dataset has an equal probability of being selected for the sample. Sampling without replacement means that once a row is selected, it cannot be selected again, preventing duplicate rows in the sample. Random sampling is used to obtain a representative subset of the data, allowing us to estimate data quality metrics for the entire dataset without processing every single row. This significantly reduces the time and resources required for DQA.\n",
    "\n",
    "**Sample Size Calculation:**\n",
    "\n",
    "The sample size is determined based on the following parameters:\n",
    "\n",
    "* **Z-score (z):** 1.96. This corresponds to a 95% confidence level. It indicates that if we were to repeat this sampling process many times, 95% of the samples would accurately reflect the population within the specified margin of error.\n",
    "\n",
    "* **Estimated Proportion (p):** 0.5. This is a conservative estimate for the proportion of data quality issues. Using 0.5 maximizes the calculated sample size, ensuring that the sample is large enough even if the true proportion of issues is unknown. If prior knowledge suggests a different proportion, this value can be adjusted.\n",
    "\n",
    "* **Margin of Error (moe):** 0.01 (or 1%). This defines the acceptable range of deviation between the data quality metrics calculated from the sample and the true metrics for the entire dataset. We aim to be 95% confident that the true value is within 1% of the value observed in the sample.\n",
    "\n",
    "The sample size (n) is calculated using the following formula:\n",
    "\n",
    "```\n",
    "n = (Z^2 * p * (1-p)) / moe^2\n",
    "```\n",
    "\n",
    "This formula balances the desired confidence level, the estimated variability in the data, and the acceptable margin of error to determine the minimum sample size required for statistically significant results.\n",
    "\n",
    "**Benefits of Sampling:**\n",
    "\n",
    "* **Reduced Processing Time:** By performing DQA on a sample, we drastically reduce the amount of data that needs to be processed, leading to significant time savings.\n",
    "* **Resource Efficiency:** Sampling reduces the computational resources (memory, CPU) required for DQA.\n",
    "* **Cost-Effectiveness:** Processing smaller samples translates to lower infrastructure costs.\n",
    "\n",
    "**Limitations:**\n",
    "\n",
    "* **Estimation:** The DQA results obtained from the sample are *estimates* of the true data quality metrics for the entire dataset. While we aim for a high level of confidence (95%), there is still a small chance that the sample might not perfectly represent the population.\n",
    "* **Margin of Error:** The chosen margin of error defines the level of uncertainty in our estimates. A smaller margin of error requires a larger sample size and more processing time.\n",
    "\n",
    "**Next Steps:**\n",
    "\n",
    "Following the sampling process, the pipeline will perform the defined data quality checks on the sampled data. The results will then be extrapolated to provide an estimated overview of the data quality across the entire dataset. If the DQA on the sample reveals significant data quality issues, further investigation and potentially a full DQA on the entire dataset might be necessary.\n"
   ]
  },
  {
   "cell_type": "code",
   "execution_count": 5,
   "metadata": {},
   "outputs": [],
   "source": [
    "# Source Dataset Configuration\n",
    "source_config = DatasetConfig(\n",
    "    phase=PhaseDef.DATAPREP,\n",
    "    stage=StageDef.SEMICLEAN,\n",
    "    name=\"review\",\n",
    "    file_format=FileFormat.PARQUET,\n",
    "    asset_type=\"dataset\",\n",
    "    dftype=DFType.SPARK,\n",
    ")\n",
    "\n",
    "# Target Dataset Configuration\n",
    "target_config = DatasetConfig(\n",
    "    phase=PhaseDef.DATAPREP,\n",
    "    stage=StageDef.DQV,\n",
    "    name=\"review\",\n",
    "    file_format=FileFormat.PARQUET,\n",
    "    asset_type=\"dataset\",\n",
    "    dftype=DFType.SPARK,\n",
    ")"
   ]
  },
  {
   "cell_type": "code",
   "execution_count": 6,
   "metadata": {},
   "outputs": [
    {
     "name": "stdout",
     "output_type": "stream",
     "text": [
      "\n",
      "\n",
      "# ============================================================================== #\n",
      "#            Data Quality Assessment Stage Sun, 09 Feb 2025 00:27:00             #\n",
      "# ============================================================================== #\n",
      "\n",
      "SampleDataFrameTask                     00:27:01    00:27:01    0.87 seconds                        \n"
     ]
    },
    {
     "name": "stderr",
     "output_type": "stream",
     "text": [
      "                                                                                \r"
     ]
    },
    {
     "name": "stdout",
     "output_type": "stream",
     "text": [
      "PartitionTask                           00:27:01    00:27:03    1.7 seconds  Decreased partitions from 14 to 1\n",
      "DetectOrRepairNonEnglishTask            00:27:03    00:27:03    0.04 seconds                        \n",
      "DetectOrRepairNonEnglishTask            00:27:03    00:27:03    0.04 seconds                        \n",
      "DetectOrRepairEmailAddressTask          00:27:03    00:27:03    0.04 seconds                        \n",
      "DetectOrRepairPhoneNumberTask           00:27:03    00:27:03    0.04 seconds                        \n",
      "DetectOrRepairURLTask                   00:27:03    00:27:03    0.04 seconds                        \n",
      "DetectOrRepairUniquenessTask            00:27:03    00:27:03    0.1 seconds                         \n",
      "DetectOrRepairUniquenessTask            00:27:03    00:27:04    0.1 seconds                         \n",
      "DetectOrRepairUniquenessTask            00:27:04    00:27:04    0.11 seconds                        \n",
      "DetectOrRepairCategoryAnomalyTask       00:27:04    00:27:04    0.07 seconds                        \n",
      "DetectOrRepairRatingAnomalyTask         00:27:04    00:27:04    0.06 seconds                        \n",
      "DetectOrRepairReviewDateAnomalyTask     00:27:04    00:27:04    0.21 seconds                        \n",
      "DetectOrRepairElongationTask            00:27:04    00:27:04    0.05 seconds                        \n",
      "DetectOrRepairSpecialCharsTask          00:27:04    00:27:04    0.05 seconds                        \n",
      "DetectOrRepairAccentedCharsTask         00:27:04    00:27:04    0.05 seconds                        \n",
      "DetectOrRepairControlCharsTask          00:27:04    00:27:04    0.05 seconds                        \n",
      "DetectOrRepairHTMLCharsTask             00:27:04    00:27:04    0.05 seconds                        \n",
      "DetectOrRepairExcessiveSpecialCharsTask 00:27:04    00:27:04    0.17 seconds                        \n",
      "DetectOrRepairRepeatedWordsTask         00:27:04    00:27:04    0.05 seconds                        \n",
      "DetectOrRepairRepeatedSequenceTask      00:27:04    00:27:05    0.05 seconds                        \n",
      "DetectOrRepairRepeatedPhraseTask        00:27:05    00:27:05    0.05 seconds                        \n",
      "DetectOrRepairExcessiveWhitespaceTask   00:27:05    00:27:05    0.06 seconds                        \n",
      "DetectOrRepairShortReviewsTask          00:27:05    00:27:05    0.09 seconds                        \n"
     ]
    },
    {
     "name": "stderr",
     "output_type": "stream",
     "text": [
      "[Stage 10:>                                                         (0 + 1) / 1]\r"
     ]
    },
    {
     "name": "stdout",
     "output_type": "stream",
     "text": [
      "____________________________________________________________________________________________________\n",
      "Data Quality Assessment Stage           00:27:00    00:27:20    20.05 seconds                       \n",
      "\n",
      "\n",
      "# ============================================================================ #\n",
      "\n"
     ]
    },
    {
     "name": "stderr",
     "output_type": "stream",
     "text": [
      "                                                                                \r"
     ]
    }
   ],
   "source": [
    "# Create builder\n",
    "builder = DataQualityAssessmentStageBuilder()\n",
    "dqv_stage = (\n",
    "    builder\n",
    "    .sample_dataset(z=1.96, p=0.5, moe=0.01) # For 95% Confidence and a 0.01 (1%%) margin of error\n",
    "    .partition_dataset()\n",
    "    .detect_non_english(fast=True)\n",
    "    .detect_privacy_issues()\n",
    "    .detect_duplication()\n",
    "    .detect_invalid_values()\n",
    "    .detect_elongation(threshold=3, max_elongation=2)\n",
    "    .detect_special_chars()\n",
    "    .detect_invalid_characters()\n",
    "    .detect_excess_special_chars(threshold=0.35)\n",
    "    .detect_repeated_words(threshold=3, max_repetitions=1)\n",
    "    .detect_repeated_sequences(threshold=3, max_repetitions=3)\n",
    "    .detect_repeated_phrases(length_of_phrase=2, threshold=2, max_repetitions=2)\n",
    "    .detect_excess_whitespace()\n",
    "    .detect_short_reviews(threshold=5)\n",
    "    .build(source_config=source_config, target_config=target_config)\n",
    ")\n",
    "\n",
    "# Run the stage\n",
    "dqv_dataset = dqv_stage.run(force=FORCE)"
   ]
  },
  {
   "cell_type": "markdown",
   "metadata": {},
   "source": [
    "## Data Quality Verification\n",
    "---"
   ]
  },
  {
   "cell_type": "markdown",
   "metadata": {},
   "source": [
    "The Data Quality Analysis is performed in Pandas, so let's get a Pandas version of the dataset."
   ]
  },
  {
   "cell_type": "code",
   "execution_count": 7,
   "metadata": {},
   "outputs": [],
   "source": [
    "# Target Dataset\n",
    "dqv_dataset = repo.get(asset_id=dqv_dataset.asset_id, dftype=DFType.PANDAS)"
   ]
  },
  {
   "cell_type": "code",
   "execution_count": 8,
   "metadata": {},
   "outputs": [
    {
     "data": {
      "text/html": [
       "<div>\n",
       "<style scoped>\n",
       "    .dataframe tbody tr th:only-of-type {\n",
       "        vertical-align: middle;\n",
       "    }\n",
       "\n",
       "    .dataframe tbody tr th {\n",
       "        vertical-align: top;\n",
       "    }\n",
       "\n",
       "    .dataframe thead th {\n",
       "        text-align: right;\n",
       "    }\n",
       "</style>\n",
       "<table border=\"1\" class=\"dataframe\">\n",
       "  <thead>\n",
       "    <tr style=\"text-align: right;\">\n",
       "      <th></th>\n",
       "      <th>Dimension</th>\n",
       "      <th>Score</th>\n",
       "    </tr>\n",
       "  </thead>\n",
       "  <tbody>\n",
       "    <tr>\n",
       "      <th>0</th>\n",
       "      <td>Completeness</td>\n",
       "      <td>1.000000</td>\n",
       "    </tr>\n",
       "    <tr>\n",
       "      <th>1</th>\n",
       "      <td>Validity</td>\n",
       "      <td>0.999514</td>\n",
       "    </tr>\n",
       "    <tr>\n",
       "      <th>2</th>\n",
       "      <td>Relevance</td>\n",
       "      <td>1.000000</td>\n",
       "    </tr>\n",
       "    <tr>\n",
       "      <th>3</th>\n",
       "      <td>Uniqueness</td>\n",
       "      <td>1.000000</td>\n",
       "    </tr>\n",
       "    <tr>\n",
       "      <th>4</th>\n",
       "      <td>Privacy</td>\n",
       "      <td>0.999393</td>\n",
       "    </tr>\n",
       "  </tbody>\n",
       "</table>\n",
       "</div>"
      ],
      "text/plain": [
       "      Dimension     Score\n",
       "0  Completeness  1.000000\n",
       "1      Validity  0.999514\n",
       "2     Relevance  1.000000\n",
       "3    Uniqueness  1.000000\n",
       "4       Privacy  0.999393"
      ]
     },
     "execution_count": 8,
     "metadata": {},
     "output_type": "execute_result"
    },
    {
     "data": {
      "image/png": "[encoded data removed]",
      "text/plain": [
       "<Figure size 1200x400 with 1 Axes>"
      ]
     },
     "metadata": {},
     "output_type": "display_data"
    }
   ],
   "source": [
    "# Execute the Data Quality Verification\n",
    "dqa = DQA(dataset=dqv_dataset)\n",
    "dqa.analyze_quality()"
   ]
  },
  {
   "cell_type": "markdown",
   "metadata": {},
   "source": [
    "### Data Quality Verification Impressions\n",
    "---\n",
    "The data quality verification reveals strong performance across key dimensions. Completeness reflects some variation in app category coverage, which will be addressed during pre-training and instance selection. Validity confirms adherence to expected formats and rules, ensuring a high signal-to-noise ratio in the text. Relevance is achieved by filtering out non-English reviews and those too short to provide meaningful information for aspect-based sentiment analysis. The dataset is free from duplication, and high privacy compliance is maintained through the removal of personally identifiable information.\n",
    "\n",
    "Finally, we finalize the cleaned dataset and persist it to the repository."
   ]
  },
  {
   "cell_type": "code",
   "execution_count": 9,
   "metadata": {},
   "outputs": [],
   "source": [
    "cleaner = DatasetFinalCleaner()\n",
    "clean_dataset = cleaner.run(asset_id=semiclean_dataset.asset_id)"
   ]
  },
  {
   "cell_type": "markdown",
   "metadata": {},
   "source": [
    "### Summary and Profile\n",
    "Lastly, lets verify the cleaned dataset with a summary, a profile of its structure and a few rows sampled from the dataset.\n"
   ]
  },
  {
   "cell_type": "code",
   "execution_count": 10,
   "metadata": {},
   "outputs": [
    {
     "name": "stdout",
     "output_type": "stream",
     "text": [
      "\n",
      "\n",
      "                            AppVoCAI Dataset Summary                            \n",
      "                             Data Preparation Phase                             \n",
      "                                Clean Data Stage                                \n",
      "                       Number of Reviews | 4,939\n",
      "                     Number of Reviewers | 4,937\n",
      "              Number of Repeat Reviewers | 2 (0.0%)\n",
      "         Number of Influential Reviewers | 306 (6.2%)\n",
      "                          Number of Apps | 1,930\n",
      "                 Average Reviews per App | 2.6\n",
      "                    Number of Categories | 14\n",
      "                                Features | 11\n",
      "                       Min Review Length | 16\n",
      "                       Max Review Length | 5,519\n",
      "                   Average Review Length | 200.41\n",
      "                        Memory Size (Mb) | 2,200,457.0\n",
      "                    Date of First Review | 2021-01-01 02:20:30\n",
      "                     Date of Last Review | 2023-08-30 12:49:02\n"
     ]
    }
   ],
   "source": [
    "clean_dataset.summary"
   ]
  },
  {
   "cell_type": "code",
   "execution_count": 11,
   "metadata": {},
   "outputs": [
    {
     "data": {
      "text/html": [
       "<div>\n",
       "<style scoped>\n",
       "    .dataframe tbody tr th:only-of-type {\n",
       "        vertical-align: middle;\n",
       "    }\n",
       "\n",
       "    .dataframe tbody tr th {\n",
       "        vertical-align: top;\n",
       "    }\n",
       "\n",
       "    .dataframe thead th {\n",
       "        text-align: right;\n",
       "    }\n",
       "</style>\n",
       "<table border=\"1\" class=\"dataframe\">\n",
       "  <thead>\n",
       "    <tr style=\"text-align: right;\">\n",
       "      <th></th>\n",
       "      <th>Column</th>\n",
       "      <th>DataType</th>\n",
       "      <th>Complete</th>\n",
       "      <th>Null</th>\n",
       "      <th>Completeness</th>\n",
       "      <th>Unique</th>\n",
       "      <th>Duplicate</th>\n",
       "      <th>Uniqueness</th>\n",
       "      <th>Size (Bytes)</th>\n",
       "    </tr>\n",
       "  </thead>\n",
       "  <tbody>\n",
       "    <tr>\n",
       "      <th>0</th>\n",
       "      <td>id</td>\n",
       "      <td>StringType()</td>\n",
       "      <td>4939</td>\n",
       "      <td>0</td>\n",
       "      <td>1.0</td>\n",
       "      <td>4939</td>\n",
       "      <td>0</td>\n",
       "      <td>1.000000</td>\n",
       "      <td>2200457</td>\n",
       "    </tr>\n",
       "    <tr>\n",
       "      <th>1</th>\n",
       "      <td>app_id</td>\n",
       "      <td>StringType()</td>\n",
       "      <td>4939</td>\n",
       "      <td>0</td>\n",
       "      <td>1.0</td>\n",
       "      <td>1930</td>\n",
       "      <td>3009</td>\n",
       "      <td>0.390767</td>\n",
       "      <td>2200457</td>\n",
       "    </tr>\n",
       "    <tr>\n",
       "      <th>2</th>\n",
       "      <td>app_name</td>\n",
       "      <td>StringType()</td>\n",
       "      <td>4939</td>\n",
       "      <td>0</td>\n",
       "      <td>1.0</td>\n",
       "      <td>1930</td>\n",
       "      <td>3009</td>\n",
       "      <td>0.390767</td>\n",
       "      <td>2200457</td>\n",
       "    </tr>\n",
       "    <tr>\n",
       "      <th>3</th>\n",
       "      <td>category_id</td>\n",
       "      <td>StringType()</td>\n",
       "      <td>4939</td>\n",
       "      <td>0</td>\n",
       "      <td>1.0</td>\n",
       "      <td>14</td>\n",
       "      <td>4925</td>\n",
       "      <td>0.002835</td>\n",
       "      <td>2200457</td>\n",
       "    </tr>\n",
       "    <tr>\n",
       "      <th>4</th>\n",
       "      <td>author</td>\n",
       "      <td>StringType()</td>\n",
       "      <td>4939</td>\n",
       "      <td>0</td>\n",
       "      <td>1.0</td>\n",
       "      <td>4937</td>\n",
       "      <td>2</td>\n",
       "      <td>0.999595</td>\n",
       "      <td>2200457</td>\n",
       "    </tr>\n",
       "    <tr>\n",
       "      <th>5</th>\n",
       "      <td>rating</td>\n",
       "      <td>ShortType()</td>\n",
       "      <td>4939</td>\n",
       "      <td>0</td>\n",
       "      <td>1.0</td>\n",
       "      <td>5</td>\n",
       "      <td>4934</td>\n",
       "      <td>0.001012</td>\n",
       "      <td>2200457</td>\n",
       "    </tr>\n",
       "    <tr>\n",
       "      <th>6</th>\n",
       "      <td>content</td>\n",
       "      <td>StringType()</td>\n",
       "      <td>4939</td>\n",
       "      <td>0</td>\n",
       "      <td>1.0</td>\n",
       "      <td>4938</td>\n",
       "      <td>1</td>\n",
       "      <td>0.999798</td>\n",
       "      <td>2200457</td>\n",
       "    </tr>\n",
       "    <tr>\n",
       "      <th>7</th>\n",
       "      <td>vote_sum</td>\n",
       "      <td>LongType()</td>\n",
       "      <td>4939</td>\n",
       "      <td>0</td>\n",
       "      <td>1.0</td>\n",
       "      <td>14</td>\n",
       "      <td>4925</td>\n",
       "      <td>0.002835</td>\n",
       "      <td>2200457</td>\n",
       "    </tr>\n",
       "    <tr>\n",
       "      <th>8</th>\n",
       "      <td>vote_count</td>\n",
       "      <td>LongType()</td>\n",
       "      <td>4939</td>\n",
       "      <td>0</td>\n",
       "      <td>1.0</td>\n",
       "      <td>18</td>\n",
       "      <td>4921</td>\n",
       "      <td>0.003644</td>\n",
       "      <td>2200457</td>\n",
       "    </tr>\n",
       "    <tr>\n",
       "      <th>9</th>\n",
       "      <td>date</td>\n",
       "      <td>TimestampNTZType()</td>\n",
       "      <td>4939</td>\n",
       "      <td>0</td>\n",
       "      <td>1.0</td>\n",
       "      <td>4939</td>\n",
       "      <td>0</td>\n",
       "      <td>1.000000</td>\n",
       "      <td>2200457</td>\n",
       "    </tr>\n",
       "    <tr>\n",
       "      <th>10</th>\n",
       "      <td>category</td>\n",
       "      <td>StringType()</td>\n",
       "      <td>4939</td>\n",
       "      <td>0</td>\n",
       "      <td>1.0</td>\n",
       "      <td>14</td>\n",
       "      <td>4925</td>\n",
       "      <td>0.002835</td>\n",
       "      <td>2200457</td>\n",
       "    </tr>\n",
       "  </tbody>\n",
       "</table>\n",
       "</div>"
      ],
      "text/plain": [
       "         Column            DataType  Complete  Null  Completeness  Unique  \\\n",
       "0            id        StringType()      4939     0           1.0    4939   \n",
       "1        app_id        StringType()      4939     0           1.0    1930   \n",
       "2      app_name        StringType()      4939     0           1.0    1930   \n",
       "3   category_id        StringType()      4939     0           1.0      14   \n",
       "4        author        StringType()      4939     0           1.0    4937   \n",
       "5        rating         ShortType()      4939     0           1.0       5   \n",
       "6       content        StringType()      4939     0           1.0    4938   \n",
       "7      vote_sum          LongType()      4939     0           1.0      14   \n",
       "8    vote_count          LongType()      4939     0           1.0      18   \n",
       "9          date  TimestampNTZType()      4939     0           1.0    4939   \n",
       "10     category        StringType()      4939     0           1.0      14   \n",
       "\n",
       "    Duplicate  Uniqueness  Size (Bytes)  \n",
       "0           0    1.000000       2200457  \n",
       "1        3009    0.390767       2200457  \n",
       "2        3009    0.390767       2200457  \n",
       "3        4925    0.002835       2200457  \n",
       "4           2    0.999595       2200457  \n",
       "5        4934    0.001012       2200457  \n",
       "6           1    0.999798       2200457  \n",
       "7        4925    0.002835       2200457  \n",
       "8        4921    0.003644       2200457  \n",
       "9           0    1.000000       2200457  \n",
       "10       4925    0.002835       2200457  "
      ]
     },
     "execution_count": 11,
     "metadata": {},
     "output_type": "execute_result"
    }
   ],
   "source": [
    "clean_dataset.profile"
   ]
  },
  {
   "cell_type": "code",
   "execution_count": 12,
   "metadata": {},
   "outputs": [
    {
     "name": "stdout",
     "output_type": "stream",
     "text": [
      "+-----------+----------+------------------------------+-----------+--------------------+------+------------------------------------------------------------------------------------------------------------------------------------------------------------------------------------------------------------------------------------------------------------------------------------------------------+--------+----------+-------------------+----------------+\n",
      "|id         |app_id    |app_name                      |category_id|author              |rating|content                                                                                                                                                                                                                                                                                               |vote_sum|vote_count|date               |category        |\n",
      "+-----------+----------+------------------------------+-----------+--------------------+------+------------------------------------------------------------------------------------------------------------------------------------------------------------------------------------------------------------------------------------------------------------------------------------------------------+--------+----------+-------------------+----------------+\n",
      "|10005480242|6446492606|Actually Healthy: Food Recipes|6013       |47c0432f3b2518992616|5     |Starting intro video is perfect. It tells us exactly how to use app. Choosing what to eat in a week selecting and all the ingredients  added in basket + you choose instacart to deliver .. its a win win situation                                                                                   |0       |0         |2023-06-06 14:54:45|Health & Fitness|\n",
      "|10005553332|874656917 |I am - Daily Affirmations     |6013       |71a7593d9fe073c334d6|5     |This app helped me through a lot and it help me love myself and it helped me with anxiety j I’m m still working on some things but overall it’s a amazing app.                                                                                                                                        |0       |0         |2023-06-06 15:18:15|Health & Fitness|\n",
      "|10005919368|1435584540|Music Zen: Relaxing Slimes    |6013       |c5b4a1db9b0f022a3014|5     |I love everything but there is one thing….. the slime only has one sound not trying to offend you but please do add more sounds for slime but everything else is amazing I’m sooooo obsessed with the ink and smoke thingy omg ITS SOOOO SATISFYING AND IM IN LOVE WITH EVERYTHING!!!!!!!! -Bella-^~^-|0       |0         |2023-06-06 17:24:56|Health & Fitness|\n",
      "|10009772892|1556120981|Treecard: Walking Step Tracker|6013       |57c40a108a15f5340d71|1     |Paid for wild flowers to be shipped and never got them. Scam                                                                                                                                                                                                                                          |0       |0         |2023-06-07 19:54:24|Health & Fitness|\n",
      "|10022017987|1161035371|Pray.com: Bible & Daily Prayer|6013       |94a1993c785fb65697f1|5     |At this time in my life, I need to hear the word of God🙏🏽 We are living in challenging times and I need the Lord more than ever! I pray for my family and the World 🙏🏽                                                                                                                            |0       |0         |2023-06-11 09:48:09|Health & Fitness|\n",
      "+-----------+----------+------------------------------+-----------+--------------------+------+------------------------------------------------------------------------------------------------------------------------------------------------------------------------------------------------------------------------------------------------------------------------------------------------------+--------+----------+-------------------+----------------+\n",
      "only showing top 5 rows\n",
      "\n"
     ]
    }
   ],
   "source": [
    "clean_dataset.dataframe.show(n=5, truncate=False, vertical=False)"
   ]
  },
  {
   "cell_type": "markdown",
   "metadata": {},
   "source": [
    "Great! Next, we do some housecleaning, then we move on to text quality analysis, a crucial step for ABSA model fine-tuning instance selection."
   ]
  },
  {
   "cell_type": "code",
   "execution_count": 13,
   "metadata": {},
   "outputs": [],
   "source": [
    "# Stop Spark Session\n",
    "container.spark.session_pool().stop()"
   ]
  }
 ],
 "metadata": {
  "kernelspec": {
   "display_name": "genai",
   "language": "python",
   "name": "python3"
  },
  "language_info": {
   "codemirror_mode": {
    "name": "ipython",
    "version": 3
   },
   "file_extension": ".py",
   "mimetype": "text/x-python",
   "name": "python",
   "nbconvert_exporter": "python",
   "pygments_lexer": "ipython3",
   "version": "3.10.16"
  }
 },
 "nbformat": 4,
 "nbformat_minor": 2
}
