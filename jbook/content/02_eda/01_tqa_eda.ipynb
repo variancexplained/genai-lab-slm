{
 "cells": [
  {
   "cell_type": "code",
   "execution_count": 1,
   "metadata": {},
   "outputs": [],
   "source": [
    "import warnings\n",
    "\n",
    "warnings.filterwarnings(\"ignore\")\n",
    "import os\n",
    "\n",
    "if \"jbook\" in os.getcwd():\n",
    "    os.chdir(os.path.abspath(os.path.join(\"../..\")))"
   ]
  },
  {
   "cell_type": "code",
   "execution_count": 2,
   "metadata": {},
   "outputs": [],
   "source": [
    "import matplotlib.pyplot as plt\n",
    "\n",
    "from explorify.eda.visualize.visualizer import Visualizer\n",
    "from genailab.setup import auto_wire_container\n",
    "from genailab.core.dtypes import DFType\n",
    "from genailab.infra.utils.file.fileset import FileFormat\n",
    "from genailab.core.flow import PhaseDef, StageDef\n",
    "from genailab.flow.dataprep.tqa import TQA_FEATURES\n",
    "# Wire container and obtain the repository\n",
    "container = auto_wire_container()\n",
    "repo = container.io.repo()\n",
    "viz = Visualizer()\n"
   ]
  },
  {
   "cell_type": "markdown",
   "metadata": {},
   "source": [
    "# Introduction: Evaluating Review Quality for Aspect-Based Sentiment Analysis\n",
    "---\n",
    "Aspect-Based Sentiment Analysis (ABSA) focuses on identifying and extracting sentiment expressed towards specific aspects (e.g., features, attributes) of a product or service within a review.  The quality of a review for ABSA hinges not just on its overall writing quality, but crucially on its *relevance to the target aspects* and the *clarity of sentiment expression* towards those aspects.  A well-written review that doesn't mention any relevant aspects, or one that expresses sentiment vaguely, is of limited use for ABSA.  Therefore, traditional review quality metrics which often prioritize general writing style and length, may not adequately reflect a review's value for ABSA.  \n",
    "\n",
    "This exploratory data analysis (EDA) is aimed at addressing two key goals related to review quality in the context of ABSA:\n",
    "\n",
    "**Goal 1:** Evaluate the adequacy of the existing TQA score as a proxy for review quality in ABSA.  Specifically, we will investigate the correlation between TQA scores and the presence and clarity of aspect mentions within reviews.  We hypothesize that a high TQA score does not necessarily guarantee a review's usefulness for ABSA if it lacks relevant aspect mentions or expresses sentiment unclearly.\n",
    "\n",
    "**Goal 2:** If the TQA score proves inadequate for ABSA (based on the findings from Goal 1), develop an alternative weighting scheme for review features that better reflects review quality for ABSA. This will involve re-evaluating existing features, engineering new aspect-related and sentiment-clarity features, and experimenting with different weighting/scoring methods.\n",
    "\n",
    "**Methodology:**\n",
    "\n",
    "Our approach to this EDA involves a combination of quantitative and qualitative analyses:\n",
    "\n",
    "1. **Data Preparation and Initial Exploration:**  The dataset of reviews, already cleaned and annotated with TQA scores, will be loaded. We will begin by exploring the distribution of TQA scores.  While the scores are continuous, we will experiment with *binning* them into categories (e.g., high, medium, low) for some parts of the analysis, particularly the manual inspection, to make the qualitative analysis more manageable.  We will also examine basic statistics of the TQA scores (mean, standard deviation, percentiles) to understand the overall distribution, and the distribution of review lengths (number of words or sentences) to see any obvious relationship between length and TQA score are is extant.\n",
    "\n",
    "2. **Manual Inspection (Crucial):** A stratified random sample of reviews, categorized by *binned* TQA score (high, medium, low), will be manually inspected.  This qualitative analysis will be the cornerstone of our investigation.  For each review, we will:\n",
    "    * Identify and list all mentioned aspects.\n",
    "    * Assess the clarity of sentiment expression towards each aspect (e.g., is the sentiment clearly positive, negative, or neutral?  Are there ambiguous or conflicting sentiment expressions?).\n",
    "    * Document any observations about why some high-TQA reviews are not useful for ABSA (e.g., general comments, lack of specific aspect mentions, vague sentiment).\n",
    "\n",
    "3. **Quantitative Analysis:**  If aspect mention data is available (e.g., a list of aspects associated with each review), we will calculate the correlation between the *continuous* TQA score and measures of aspect coverage (e.g., number of aspects mentioned, proportion of text devoted to aspects).  We will also explore other potential correlations, such as the relationship between TQA score and review length.\n",
    "\n",
    "4. **Feature Re-evaluation and Engineering:** Based on the insights from the manual inspection, we will re-evaluate the existing features used to calculate the TQA score and identify which ones are relevant for ABSA.  We will also engineer new features that capture aspect relevance (e.g., number of aspect mentions, clarity of aspect mentions) and sentiment clarity (e.g., sentiment strength, polarity consistency).\n",
    "\n",
    "5. **Weighting/Scoring:** If the TQA score is deemed inadequate, we will explore different methods to combine the selected and engineered features into a new \"ABSA usefulness\" score. This may include rule-based systems, machine learning models (e.g., regression, ranking), or a hybrid approach.\n",
    "\n",
    "6. **Evaluation:** The performance of the original TQA score and the newly developed \"ABSA usefulness\" score will be critically evaluated.  Manual inspection will again play a crucial role in assessing whether the scores accurately reflect a review's value for ABSA.  If machine learning models are used, appropriate evaluation metrics (e.g., precision, recall, F1-score) will be calculated on a held-out test set.\n"
   ]
  },
  {
   "cell_type": "markdown",
   "metadata": {},
   "source": [
    "## Data Preparation and Initial Exploration\n",
    "---\n",
    "Once we obtain the dataset from the repository, we'll summarize and profile the dataset, then examine the distribution of the `tqa_score` metric."
   ]
  },
  {
   "cell_type": "code",
   "execution_count": 3,
   "metadata": {},
   "outputs": [],
   "source": [
    "asset_id = repo.get_asset_id(phase=PhaseDef.DATAPREP, stage=StageDef.TQA, name=\"review\", )\n",
    "dataset = repo.get(asset_id=asset_id)"
   ]
  },
  {
   "cell_type": "markdown",
   "metadata": {},
   "source": [
    "### Dataset Summary\n",
    "---\n",
    "This summarizes the contents of the dataset in terms of reviews, apps, and reviewers, as well as temporal range and review length statistics. "
   ]
  },
  {
   "cell_type": "code",
   "execution_count": 4,
   "metadata": {},
   "outputs": [
    {
     "name": "stdout",
     "output_type": "stream",
     "text": [
      "\n",
      "\n",
      "                            AppVoCAI Dataset Summary                            \n",
      "                             Data Preparation Phase                             \n",
      "                          Text Quality Analysis Stage                           \n",
      "                       Number of Reviews | 4,812\n",
      "                     Number of Reviewers | 4,811\n",
      "              Number of Repeat Reviewers | 1 (0.0%)\n",
      "         Number of Influential Reviewers | 294 (6.1%)\n",
      "                          Number of Apps | 1,866\n",
      "                 Average Reviews per App | 2.6\n",
      "                    Number of Categories | 14\n",
      "                                Features | 23\n",
      "                       Min Review Length | 3\n",
      "                       Max Review Length | 492\n",
      "                   Average Review Length | 37.39\n",
      "                        Memory Size (Mb) | 3.11\n",
      "                    Date of First Review | 2021-01-01 02:20:30+00:00\n",
      "                     Date of Last Review | 2023-08-30 12:49:02+00:00\n"
     ]
    }
   ],
   "source": [
    "dataset.summary"
   ]
  },
  {
   "cell_type": "markdown",
   "metadata": {},
   "source": [
    "This is our second view of the AppVoCAI dataset, following data cleaning and the addition of Text Quality Assessment (TQA) and sentiment analysis features.  Compared to our initial view, the dataset is slightly smaller due to the removal of reviews shorter than three words. We've also added eleven TQA-related features and one sentiment analysis feature, bringing the total number of features to 24.  The remaining dataset characteristics (review volume, reviewer and app diversity, time span, etc.) are largely unchanged."
   ]
  },
  {
   "cell_type": "markdown",
   "metadata": {},
   "source": [
    "### Dataset Profile\n",
    "---\n",
    "Is the dataset complete? Is duplication or null values an issue. The profile below summarizes the structural aspects of the dataset."
   ]
  },
  {
   "cell_type": "code",
   "execution_count": 5,
   "metadata": {},
   "outputs": [
    {
     "data": {
      "text/html": [
       "<div>\n",
       "<style scoped>\n",
       "    .dataframe tbody tr th:only-of-type {\n",
       "        vertical-align: middle;\n",
       "    }\n",
       "\n",
       "    .dataframe tbody tr th {\n",
       "        vertical-align: top;\n",
       "    }\n",
       "\n",
       "    .dataframe thead th {\n",
       "        text-align: right;\n",
       "    }\n",
       "</style>\n",
       "<table border=\"1\" class=\"dataframe\">\n",
       "  <thead>\n",
       "    <tr style=\"text-align: right;\">\n",
       "      <th></th>\n",
       "      <th>Column</th>\n",
       "      <th>DataType</th>\n",
       "      <th>Complete</th>\n",
       "      <th>Null</th>\n",
       "      <th>Completeness</th>\n",
       "      <th>Unique</th>\n",
       "      <th>Duplicate</th>\n",
       "      <th>Uniqueness</th>\n",
       "      <th>Size (Bytes)</th>\n",
       "    </tr>\n",
       "  </thead>\n",
       "  <tbody>\n",
       "    <tr>\n",
       "      <th>0</th>\n",
       "      <td>id</td>\n",
       "      <td>string[python]</td>\n",
       "      <td>4812</td>\n",
       "      <td>0</td>\n",
       "      <td>1.0</td>\n",
       "      <td>4812</td>\n",
       "      <td>0</td>\n",
       "      <td>1.000000</td>\n",
       "      <td>322866</td>\n",
       "    </tr>\n",
       "    <tr>\n",
       "      <th>1</th>\n",
       "      <td>app_id</td>\n",
       "      <td>string[python]</td>\n",
       "      <td>4812</td>\n",
       "      <td>0</td>\n",
       "      <td>1.0</td>\n",
       "      <td>1866</td>\n",
       "      <td>2946</td>\n",
       "      <td>0.387781</td>\n",
       "      <td>320011</td>\n",
       "    </tr>\n",
       "    <tr>\n",
       "      <th>2</th>\n",
       "      <td>app_name</td>\n",
       "      <td>string[python]</td>\n",
       "      <td>4812</td>\n",
       "      <td>0</td>\n",
       "      <td>1.0</td>\n",
       "      <td>1866</td>\n",
       "      <td>2946</td>\n",
       "      <td>0.387781</td>\n",
       "      <td>384993</td>\n",
       "    </tr>\n",
       "    <tr>\n",
       "      <th>3</th>\n",
       "      <td>category_id</td>\n",
       "      <td>category</td>\n",
       "      <td>4812</td>\n",
       "      <td>0</td>\n",
       "      <td>1.0</td>\n",
       "      <td>14</td>\n",
       "      <td>4798</td>\n",
       "      <td>0.002909</td>\n",
       "      <td>6222</td>\n",
       "    </tr>\n",
       "    <tr>\n",
       "      <th>4</th>\n",
       "      <td>author</td>\n",
       "      <td>string[python]</td>\n",
       "      <td>4812</td>\n",
       "      <td>0</td>\n",
       "      <td>1.0</td>\n",
       "      <td>4811</td>\n",
       "      <td>1</td>\n",
       "      <td>0.999792</td>\n",
       "      <td>370524</td>\n",
       "    </tr>\n",
       "    <tr>\n",
       "      <th>5</th>\n",
       "      <td>rating</td>\n",
       "      <td>Int16</td>\n",
       "      <td>4812</td>\n",
       "      <td>0</td>\n",
       "      <td>1.0</td>\n",
       "      <td>5</td>\n",
       "      <td>4807</td>\n",
       "      <td>0.001039</td>\n",
       "      <td>14436</td>\n",
       "    </tr>\n",
       "    <tr>\n",
       "      <th>6</th>\n",
       "      <td>content</td>\n",
       "      <td>string[python]</td>\n",
       "      <td>4812</td>\n",
       "      <td>0</td>\n",
       "      <td>1.0</td>\n",
       "      <td>4809</td>\n",
       "      <td>3</td>\n",
       "      <td>0.999377</td>\n",
       "      <td>1198458</td>\n",
       "    </tr>\n",
       "    <tr>\n",
       "      <th>7</th>\n",
       "      <td>vote_sum</td>\n",
       "      <td>Int64</td>\n",
       "      <td>4812</td>\n",
       "      <td>0</td>\n",
       "      <td>1.0</td>\n",
       "      <td>13</td>\n",
       "      <td>4799</td>\n",
       "      <td>0.002702</td>\n",
       "      <td>43308</td>\n",
       "    </tr>\n",
       "    <tr>\n",
       "      <th>8</th>\n",
       "      <td>vote_count</td>\n",
       "      <td>Int64</td>\n",
       "      <td>4812</td>\n",
       "      <td>0</td>\n",
       "      <td>1.0</td>\n",
       "      <td>17</td>\n",
       "      <td>4795</td>\n",
       "      <td>0.003533</td>\n",
       "      <td>43308</td>\n",
       "    </tr>\n",
       "    <tr>\n",
       "      <th>9</th>\n",
       "      <td>date</td>\n",
       "      <td>datetime64[ns, UTC]</td>\n",
       "      <td>4812</td>\n",
       "      <td>0</td>\n",
       "      <td>1.0</td>\n",
       "      <td>4812</td>\n",
       "      <td>0</td>\n",
       "      <td>1.000000</td>\n",
       "      <td>38496</td>\n",
       "    </tr>\n",
       "    <tr>\n",
       "      <th>10</th>\n",
       "      <td>noun_count</td>\n",
       "      <td>Float64</td>\n",
       "      <td>4812</td>\n",
       "      <td>0</td>\n",
       "      <td>1.0</td>\n",
       "      <td>66</td>\n",
       "      <td>4746</td>\n",
       "      <td>0.013716</td>\n",
       "      <td>43308</td>\n",
       "    </tr>\n",
       "    <tr>\n",
       "      <th>11</th>\n",
       "      <td>verb_count</td>\n",
       "      <td>Float64</td>\n",
       "      <td>4812</td>\n",
       "      <td>0</td>\n",
       "      <td>1.0</td>\n",
       "      <td>56</td>\n",
       "      <td>4756</td>\n",
       "      <td>0.011638</td>\n",
       "      <td>43308</td>\n",
       "    </tr>\n",
       "    <tr>\n",
       "      <th>12</th>\n",
       "      <td>adjective_count</td>\n",
       "      <td>Float64</td>\n",
       "      <td>4812</td>\n",
       "      <td>0</td>\n",
       "      <td>1.0</td>\n",
       "      <td>29</td>\n",
       "      <td>4783</td>\n",
       "      <td>0.006027</td>\n",
       "      <td>43308</td>\n",
       "    </tr>\n",
       "    <tr>\n",
       "      <th>13</th>\n",
       "      <td>adverb_count</td>\n",
       "      <td>Float64</td>\n",
       "      <td>4812</td>\n",
       "      <td>0</td>\n",
       "      <td>1.0</td>\n",
       "      <td>29</td>\n",
       "      <td>4783</td>\n",
       "      <td>0.006027</td>\n",
       "      <td>43308</td>\n",
       "    </tr>\n",
       "    <tr>\n",
       "      <th>14</th>\n",
       "      <td>aspect_verb_pairs</td>\n",
       "      <td>Float64</td>\n",
       "      <td>4812</td>\n",
       "      <td>0</td>\n",
       "      <td>1.0</td>\n",
       "      <td>29</td>\n",
       "      <td>4783</td>\n",
       "      <td>0.006027</td>\n",
       "      <td>43308</td>\n",
       "    </tr>\n",
       "    <tr>\n",
       "      <th>15</th>\n",
       "      <td>noun_phrases</td>\n",
       "      <td>Float64</td>\n",
       "      <td>4812</td>\n",
       "      <td>0</td>\n",
       "      <td>1.0</td>\n",
       "      <td>51</td>\n",
       "      <td>4761</td>\n",
       "      <td>0.010599</td>\n",
       "      <td>43308</td>\n",
       "    </tr>\n",
       "    <tr>\n",
       "      <th>16</th>\n",
       "      <td>verb_phrases</td>\n",
       "      <td>Float64</td>\n",
       "      <td>4812</td>\n",
       "      <td>0</td>\n",
       "      <td>1.0</td>\n",
       "      <td>54</td>\n",
       "      <td>4758</td>\n",
       "      <td>0.011222</td>\n",
       "      <td>43308</td>\n",
       "    </tr>\n",
       "    <tr>\n",
       "      <th>17</th>\n",
       "      <td>adverbial_phrases</td>\n",
       "      <td>Float64</td>\n",
       "      <td>4812</td>\n",
       "      <td>0</td>\n",
       "      <td>1.0</td>\n",
       "      <td>8</td>\n",
       "      <td>4804</td>\n",
       "      <td>0.001663</td>\n",
       "      <td>43308</td>\n",
       "    </tr>\n",
       "    <tr>\n",
       "      <th>18</th>\n",
       "      <td>review_length</td>\n",
       "      <td>Float64</td>\n",
       "      <td>4812</td>\n",
       "      <td>0</td>\n",
       "      <td>1.0</td>\n",
       "      <td>207</td>\n",
       "      <td>4605</td>\n",
       "      <td>0.043017</td>\n",
       "      <td>43308</td>\n",
       "    </tr>\n",
       "    <tr>\n",
       "      <th>19</th>\n",
       "      <td>lexical_density</td>\n",
       "      <td>Float64</td>\n",
       "      <td>4812</td>\n",
       "      <td>0</td>\n",
       "      <td>1.0</td>\n",
       "      <td>776</td>\n",
       "      <td>4036</td>\n",
       "      <td>0.161264</td>\n",
       "      <td>43308</td>\n",
       "    </tr>\n",
       "    <tr>\n",
       "      <th>20</th>\n",
       "      <td>dependency_depth</td>\n",
       "      <td>Float64</td>\n",
       "      <td>4812</td>\n",
       "      <td>0</td>\n",
       "      <td>1.0</td>\n",
       "      <td>182</td>\n",
       "      <td>4630</td>\n",
       "      <td>0.037822</td>\n",
       "      <td>43308</td>\n",
       "    </tr>\n",
       "    <tr>\n",
       "      <th>21</th>\n",
       "      <td>tqa_score</td>\n",
       "      <td>Float64</td>\n",
       "      <td>4812</td>\n",
       "      <td>0</td>\n",
       "      <td>1.0</td>\n",
       "      <td>4701</td>\n",
       "      <td>111</td>\n",
       "      <td>0.976933</td>\n",
       "      <td>43308</td>\n",
       "    </tr>\n",
       "    <tr>\n",
       "      <th>22</th>\n",
       "      <td>category</td>\n",
       "      <td>category</td>\n",
       "      <td>4812</td>\n",
       "      <td>0</td>\n",
       "      <td>1.0</td>\n",
       "      <td>14</td>\n",
       "      <td>4798</td>\n",
       "      <td>0.002909</td>\n",
       "      <td>6311</td>\n",
       "    </tr>\n",
       "  </tbody>\n",
       "</table>\n",
       "</div>"
      ],
      "text/plain": [
       "               Column             DataType  Complete  Null  Completeness  \\\n",
       "0                  id       string[python]      4812     0           1.0   \n",
       "1              app_id       string[python]      4812     0           1.0   \n",
       "2            app_name       string[python]      4812     0           1.0   \n",
       "3         category_id             category      4812     0           1.0   \n",
       "4              author       string[python]      4812     0           1.0   \n",
       "5              rating                Int16      4812     0           1.0   \n",
       "6             content       string[python]      4812     0           1.0   \n",
       "7            vote_sum                Int64      4812     0           1.0   \n",
       "8          vote_count                Int64      4812     0           1.0   \n",
       "9                date  datetime64[ns, UTC]      4812     0           1.0   \n",
       "10         noun_count              Float64      4812     0           1.0   \n",
       "11         verb_count              Float64      4812     0           1.0   \n",
       "12    adjective_count              Float64      4812     0           1.0   \n",
       "13       adverb_count              Float64      4812     0           1.0   \n",
       "14  aspect_verb_pairs              Float64      4812     0           1.0   \n",
       "15       noun_phrases              Float64      4812     0           1.0   \n",
       "16       verb_phrases              Float64      4812     0           1.0   \n",
       "17  adverbial_phrases              Float64      4812     0           1.0   \n",
       "18      review_length              Float64      4812     0           1.0   \n",
       "19    lexical_density              Float64      4812     0           1.0   \n",
       "20   dependency_depth              Float64      4812     0           1.0   \n",
       "21          tqa_score              Float64      4812     0           1.0   \n",
       "22           category             category      4812     0           1.0   \n",
       "\n",
       "    Unique  Duplicate  Uniqueness  Size (Bytes)  \n",
       "0     4812          0    1.000000        322866  \n",
       "1     1866       2946    0.387781        320011  \n",
       "2     1866       2946    0.387781        384993  \n",
       "3       14       4798    0.002909          6222  \n",
       "4     4811          1    0.999792        370524  \n",
       "5        5       4807    0.001039         14436  \n",
       "6     4809          3    0.999377       1198458  \n",
       "7       13       4799    0.002702         43308  \n",
       "8       17       4795    0.003533         43308  \n",
       "9     4812          0    1.000000         38496  \n",
       "10      66       4746    0.013716         43308  \n",
       "11      56       4756    0.011638         43308  \n",
       "12      29       4783    0.006027         43308  \n",
       "13      29       4783    0.006027         43308  \n",
       "14      29       4783    0.006027         43308  \n",
       "15      51       4761    0.010599         43308  \n",
       "16      54       4758    0.011222         43308  \n",
       "17       8       4804    0.001663         43308  \n",
       "18     207       4605    0.043017         43308  \n",
       "19     776       4036    0.161264         43308  \n",
       "20     182       4630    0.037822         43308  \n",
       "21    4701        111    0.976933         43308  \n",
       "22      14       4798    0.002909          6311  "
      ]
     },
     "execution_count": 5,
     "metadata": {},
     "output_type": "execute_result"
    }
   ],
   "source": [
    "dataset.profile"
   ]
  },
  {
   "cell_type": "markdown",
   "metadata": {},
   "source": [
    "This profile mirrors our initial dataset overview, with the addition of TQA-related features.  All columns exhibit 100% completeness and no null values.  The data types and uniqueness of existing columns remain consistent.  The key change is the addition of TQA features (related to noun/verb/adjective/adverb counts, phrase analysis, lexical density, and dependency depth), which will be the focus of our subsequent analysis."
   ]
  },
  {
   "cell_type": "markdown",
   "metadata": {},
   "source": [
    "### TQA Score Distribution\n",
    "---\n",
    "#TODO: Create distribution plot that contains a histogram, cumulative distribution function plot, violinplot and qqplot. it should also return descriptive statistics."
   ]
  },
  {
   "cell_type": "code",
   "execution_count": 6,
   "metadata": {},
   "outputs": [
    {
     "data": {
      "text/plain": [
       "<Axes: title={'center': 'Tqa Score'}, xlabel='tqa_score', ylabel='Density'>"
      ]
     },
     "execution_count": 6,
     "metadata": {},
     "output_type": "execute_result"
    },
    {
     "data": {
      "image/png": "[encoded data removed]",
      "text/plain": [
       "<Figure size 1200x400 with 1 Axes>"
      ]
     },
     "metadata": {},
     "output_type": "display_data"
    }
   ],
   "source": [
    "viz.histogram(data=dataset.dataframe, x=\"tqa_score\")"
   ]
  },
  {
   "cell_type": "code",
   "execution_count": 7,
   "metadata": {},
   "outputs": [
    {
     "data": {
      "text/plain": [
       "<Axes: title={'center': 'Tqa Score'}, xlabel='tqa_score'>"
      ]
     },
     "execution_count": 7,
     "metadata": {},
     "output_type": "execute_result"
    },
    {
     "data": {
      "image/png": "[encoded data removed]",
      "text/plain": [
       "<Figure size 1200x400 with 1 Axes>"
      ]
     },
     "metadata": {},
     "output_type": "display_data"
    }
   ],
   "source": [
    "viz.violinplot(data=dataset.dataframe, x=\"tqa_score\")"
   ]
  },
  {
   "cell_type": "markdown",
   "metadata": {},
   "source": [
    "## Parts of Speech Counts"
   ]
  },
  {
   "cell_type": "code",
   "execution_count": 8,
   "metadata": {},
   "outputs": [
    {
     "ename": "NameError",
     "evalue": "name 'tqa' is not defined",
     "output_type": "error",
     "traceback": [
      "\u001b[0;31m---------------------------------------------------------------------------\u001b[0m",
      "\u001b[0;31mNameError\u001b[0m                                 Traceback (most recent call last)",
      "Cell \u001b[0;32mIn[8], line 2\u001b[0m\n\u001b[1;32m      1\u001b[0m f, ax \u001b[38;5;241m=\u001b[39m plt\u001b[38;5;241m.\u001b[39msubplots(nrows\u001b[38;5;241m=\u001b[39m\u001b[38;5;241m2\u001b[39m,ncols\u001b[38;5;241m=\u001b[39m\u001b[38;5;241m2\u001b[39m, figsize\u001b[38;5;241m=\u001b[39m(\u001b[38;5;241m12\u001b[39m,\u001b[38;5;241m8\u001b[39m))\n\u001b[0;32m----> 2\u001b[0m ax[\u001b[38;5;241m0\u001b[39m,\u001b[38;5;241m0\u001b[39m] \u001b[38;5;241m=\u001b[39m viz\u001b[38;5;241m.\u001b[39mhistogram(data\u001b[38;5;241m=\u001b[39m\u001b[43mtqa\u001b[49m, x\u001b[38;5;241m=\u001b[39m\u001b[38;5;124m\"\u001b[39m\u001b[38;5;124mnoun_count\u001b[39m\u001b[38;5;124m\"\u001b[39m, ax\u001b[38;5;241m=\u001b[39max[\u001b[38;5;241m0\u001b[39m,\u001b[38;5;241m0\u001b[39m], title\u001b[38;5;241m=\u001b[39m\u001b[38;5;124m\"\u001b[39m\u001b[38;5;124mNoun Count Distribution\u001b[39m\u001b[38;5;124m\"\u001b[39m)\n\u001b[1;32m      3\u001b[0m ax[\u001b[38;5;241m0\u001b[39m,\u001b[38;5;241m1\u001b[39m]\u001b[38;5;241m=\u001b[39m viz\u001b[38;5;241m.\u001b[39mhistogram(data\u001b[38;5;241m=\u001b[39mtqa, x\u001b[38;5;241m=\u001b[39m\u001b[38;5;124m\"\u001b[39m\u001b[38;5;124mverb_count\u001b[39m\u001b[38;5;124m\"\u001b[39m, ax\u001b[38;5;241m=\u001b[39max[\u001b[38;5;241m0\u001b[39m,\u001b[38;5;241m1\u001b[39m], title\u001b[38;5;241m=\u001b[39m\u001b[38;5;124m\"\u001b[39m\u001b[38;5;124mVerb Count Distribution\u001b[39m\u001b[38;5;124m\"\u001b[39m)\n\u001b[1;32m      4\u001b[0m ax[\u001b[38;5;241m1\u001b[39m,\u001b[38;5;241m0\u001b[39m] \u001b[38;5;241m=\u001b[39m viz\u001b[38;5;241m.\u001b[39mhistogram(data\u001b[38;5;241m=\u001b[39mtqa, x\u001b[38;5;241m=\u001b[39m\u001b[38;5;124m\"\u001b[39m\u001b[38;5;124madjective_count\u001b[39m\u001b[38;5;124m\"\u001b[39m, ax\u001b[38;5;241m=\u001b[39max[\u001b[38;5;241m1\u001b[39m,\u001b[38;5;241m0\u001b[39m], title\u001b[38;5;241m=\u001b[39m\u001b[38;5;124m\"\u001b[39m\u001b[38;5;124mAdjective Count Distribution\u001b[39m\u001b[38;5;124m\"\u001b[39m)\n",
      "\u001b[0;31mNameError\u001b[0m: name 'tqa' is not defined"
     ]
    },
    {
     "data": {
      "image/png": "[encoded data removed]",
      "text/plain": [
       "<Figure size 1200x800 with 4 Axes>"
      ]
     },
     "metadata": {},
     "output_type": "display_data"
    }
   ],
   "source": [
    "f, ax = plt.subplots(nrows=2,ncols=2, figsize=(12,8))\n",
    "ax[0,0] = viz.histogram(data=tqa, x=\"noun_count\", ax=ax[0,0], title=\"Noun Count Distribution\")\n",
    "ax[0,1]= viz.histogram(data=tqa, x=\"verb_count\", ax=ax[0,1], title=\"Verb Count Distribution\")\n",
    "ax[1,0] = viz.histogram(data=tqa, x=\"adjective_count\", ax=ax[1,0], title=\"Adjective Count Distribution\")\n",
    "ax[1,1] = viz.histogram(data=tqa, x=\"adverb_count\", ax=ax[1,1], title=\"Adverb Count Distribution\")\n",
    "f.suptitle(t=\"Parts of Speech Distributions\")\n",
    "plt.tight_layout()\n"
   ]
  },
  {
   "cell_type": "markdown",
   "metadata": {},
   "source": [
    "## Phrase Counts"
   ]
  },
  {
   "cell_type": "markdown",
   "metadata": {},
   "source": [
    "## Phrase Counts"
   ]
  },
  {
   "cell_type": "code",
   "execution_count": null,
   "metadata": {},
   "outputs": [],
   "source": [
    "f, ax = plt.subplots(nrows=2,ncols=2, figsize=(12,8))\n",
    "ax[0,0] = viz.histogram(data=tqa, x=\"aspect_verb_pairs\", ax=ax[0,0], title=\"Aspect Verb Pair Distribution\")\n",
    "ax[0,1]= viz.histogram(data=tqa, x=\"noun_phrases\", ax=ax[0,1], title=\"Noun Phrases Distribution\")\n",
    "ax[1,0] = viz.histogram(data=tqa, x=\"verb_phrases\", ax=ax[1,0], title=\"Verb Phrases Distribution\")\n",
    "ax[1,1] = viz.histogram(data=tqa, x=\"adverbial_phrases\", ax=ax[1,1], title=\"Adverbial Phrases Distribution\")\n",
    "f.suptitle(t=\"Phrase Distributions\")\n",
    "plt.tight_layout()"
   ]
  },
  {
   "cell_type": "markdown",
   "metadata": {},
   "source": [
    "## Lexical Features"
   ]
  },
  {
   "cell_type": "code",
   "execution_count": null,
   "metadata": {},
   "outputs": [],
   "source": [
    "f, ax = plt.subplots(nrows=1,ncols=3, figsize=(12,4))\n",
    "ax[0] = viz.histogram(data=tqa, x=\"review_length\", ax=ax[0], title=\"Review Length Distribution\")\n",
    "ax[1]= viz.histogram(data=tqa, x=\"lexical_density\", ax=ax[1], title=\"Lexical Density Distribution\")\n",
    "ax[2] = viz.histogram(data=tqa, x=\"dependency_depth\", ax=ax[2], title=\"Dependency Depth Distribution\")\n",
    "f.suptitle(t=\"Lexical Features\")\n",
    "plt.tight_layout()"
   ]
  },
  {
   "cell_type": "markdown",
   "metadata": {},
   "source": [
    "## Correlation Plot"
   ]
  },
  {
   "cell_type": "code",
   "execution_count": null,
   "metadata": {},
   "outputs": [],
   "source": [
    "tqa = dataset.dataframe[TQA_FEATURES]\n",
    "viz.corrplot(data=tqa, title=\"AppVoCAI Text Quality Feature Correlation Plot\")"
   ]
  },
  {
   "cell_type": "markdown",
   "metadata": {},
   "source": [
    "## Parts of Speech and TQA Score"
   ]
  },
  {
   "cell_type": "code",
   "execution_count": null,
   "metadata": {},
   "outputs": [],
   "source": [
    "f, ax = plt.subplots(nrows=2,ncols=2, figsize=(12,8))\n",
    "ax[0,0] = viz.scatterplot(data=tqa, x=\"noun_count\",y=\"tqa_score\", ax=ax[0,0], title=\"Noun Counts and TQA Score\")\n",
    "ax[0,1]= viz.histogram(data=tqa, x=\"verb_count\", y=\"tqa_score\",ax=ax[0,1], title=\"Verb Counts and TQA Score\")\n",
    "ax[1,0] = viz.histogram(data=tqa, x=\"adjective_count\", y=\"tqa_score\",ax=ax[1,0], title=\"Adjective Counts and TQA Score\")\n",
    "ax[1,1] = viz.histogram(data=tqa, x=\"adverb_count\", y=\"tqa_score\",ax=ax[1,1], title=\"Adverb Counts and TQA Score\")\n",
    "f.suptitle(t=\"Parts of Speech and TQA Score\")\n",
    "plt.tight_layout()\n"
   ]
  },
  {
   "cell_type": "markdown",
   "metadata": {},
   "source": [
    "## Phrases and TQA Score"
   ]
  },
  {
   "cell_type": "code",
   "execution_count": null,
   "metadata": {},
   "outputs": [],
   "source": [
    "f, ax = plt.subplots(nrows=2,ncols=2, figsize=(12,8))\n",
    "ax[0,0] = viz.scatterplot(data=tqa, x=\"aspect_verb_pairs\", y=\"tqa_score\", ax=ax[0,0], title=\"Aspect Verb Pair and TQA Sccore\")\n",
    "ax[0,1]= viz.scatterplot(data=tqa, x=\"noun_phrases\",y=\"tqa_score\", ax=ax[0,1], title=\"Noun Phrases and TQA Sccore\")\n",
    "ax[1,0] = viz.scatterplot(data=tqa, x=\"verb_phrases\", y=\"tqa_score\",ax=ax[1,0], title=\"Verb Phrases and TQA Sccore\")\n",
    "ax[1,1] = viz.scatterplot(data=tqa, x=\"adverbial_phrases\",y=\"tqa_score\", ax=ax[1,1], title=\"Adverbial Phrases and TQA Sccore\")\n",
    "f.suptitle(t=\"Phrases and TQA Score\")\n",
    "plt.tight_layout()"
   ]
  },
  {
   "cell_type": "markdown",
   "metadata": {},
   "source": [
    "## Lexical Features and TQA Scores "
   ]
  },
  {
   "cell_type": "code",
   "execution_count": null,
   "metadata": {},
   "outputs": [],
   "source": [
    "f, ax = plt.subplots(nrows=1,ncols=3, figsize=(12,4))\n",
    "ax[0] = viz.scatterplot(data=tqa, x=\"review_length\", y=\"tqa_score\", ax=ax[0], title=\"Review Length and TQA Score\")\n",
    "ax[1]= viz.scatterplot(data=tqa, x=\"lexical_density\",  y=\"tqa_score\",ax=ax[1], title=\"Lexical Density and TQA Score\")\n",
    "ax[2] = viz.scatterplot(data=tqa, x=\"dependency_depth\", y=\"tqa_score\", ax=ax[2], title=\"Dependency Depth and TQA Score\")\n",
    "f.suptitle(t=\"Lexical Features and TQA Score\")\n",
    "plt.tight_layout()"
   ]
  }
 ],
 "metadata": {
  "kernelspec": {
   "display_name": "genai",
   "language": "python",
   "name": "python3"
  },
  "language_info": {
   "codemirror_mode": {
    "name": "ipython",
    "version": 3
   },
   "file_extension": ".py",
   "mimetype": "text/x-python",
   "name": "python",
   "nbconvert_exporter": "python",
   "pygments_lexer": "ipython3",
   "version": "3.8.20"
  }
 },
 "nbformat": 4,
 "nbformat_minor": 2
}
