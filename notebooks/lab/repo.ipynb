{
 "cells": [
  {
   "cell_type": "markdown",
   "metadata": {},
   "source": [
    "# Repository Lab"
   ]
  },
  {
   "cell_type": "code",
   "execution_count": 1,
   "metadata": {},
   "outputs": [],
   "source": [
    "from genailab.container import GenAILabContainer\n",
    "from genailab.core.flow import PhaseDef, StageDef"
   ]
  },
  {
   "cell_type": "markdown",
   "metadata": {},
   "source": [
    "## Dependency Container"
   ]
  },
  {
   "cell_type": "code",
   "execution_count": 2,
   "metadata": {},
   "outputs": [],
   "source": [
    "container = GenAILabContainer()\n",
    "container.init_resources()"
   ]
  },
  {
   "cell_type": "markdown",
   "metadata": {},
   "source": [
    "## Repository"
   ]
  },
  {
   "cell_type": "code",
   "execution_count": 3,
   "metadata": {},
   "outputs": [
    {
     "data": {
      "text/html": [
       "<div>\n",
       "<style scoped>\n",
       "    .dataframe tbody tr th:only-of-type {\n",
       "        vertical-align: middle;\n",
       "    }\n",
       "\n",
       "    .dataframe tbody tr th {\n",
       "        vertical-align: top;\n",
       "    }\n",
       "\n",
       "    .dataframe thead th {\n",
       "        text-align: right;\n",
       "    }\n",
       "</style>\n",
       "<table border=\"1\" class=\"dataframe\">\n",
       "  <thead>\n",
       "    <tr style=\"text-align: right;\">\n",
       "      <th></th>\n",
       "      <th>asset_id</th>\n",
       "      <th>phase</th>\n",
       "      <th>stage</th>\n",
       "      <th>name</th>\n",
       "      <th>description</th>\n",
       "      <th>file_format</th>\n",
       "      <th>creator</th>\n",
       "      <th>created</th>\n",
       "      <th>source</th>\n",
       "      <th>dftype</th>\n",
       "      <th>published</th>\n",
       "      <th>consumed</th>\n",
       "      <th>status</th>\n",
       "      <th>modified</th>\n",
       "      <th>accessed</th>\n",
       "    </tr>\n",
       "  </thead>\n",
       "  <tbody>\n",
       "    <tr>\n",
       "      <th>0</th>\n",
       "      <td>dataprep_raw_dataset_review</td>\n",
       "      <td>Data Preparation Phase</td>\n",
       "      <td>Raw Data Stage</td>\n",
       "      <td>review</td>\n",
       "      <td>Dataset review created in the Data Preparation...</td>\n",
       "      <td>parquet</td>\n",
       "      <td>AppVoCAI</td>\n",
       "      <td>2025-02-03 18:46:56</td>\n",
       "      <td>None</td>\n",
       "      <td>pandas</td>\n",
       "      <td>True</td>\n",
       "      <td>True</td>\n",
       "      <td>Dataset Consumed</td>\n",
       "      <td>2025-02-03 18:50:49</td>\n",
       "      <td>2025-02-03 18:48:48</td>\n",
       "    </tr>\n",
       "    <tr>\n",
       "      <th>0</th>\n",
       "      <td>dataprep_preprocess_dataset_review</td>\n",
       "      <td>Data Preparation Phase</td>\n",
       "      <td>Data Preprocessing Stage</td>\n",
       "      <td>review</td>\n",
       "      <td>Dataset review created from dataprep_raw_datas...</td>\n",
       "      <td>parquet</td>\n",
       "      <td>PreprocessStage</td>\n",
       "      <td>2025-02-03 18:50:03</td>\n",
       "      <td>None</td>\n",
       "      <td>pandas</td>\n",
       "      <td>True</td>\n",
       "      <td>True</td>\n",
       "      <td>Dataset Consumed</td>\n",
       "      <td>2025-02-08 03:35:27</td>\n",
       "      <td>2025-02-08 02:34:58</td>\n",
       "    </tr>\n",
       "    <tr>\n",
       "      <th>0</th>\n",
       "      <td>dataprep_dqa_dataset_review</td>\n",
       "      <td>Data Preparation Phase</td>\n",
       "      <td>Data Quality Assessment Stage</td>\n",
       "      <td>review</td>\n",
       "      <td>Dataset review created from dataprep_preproces...</td>\n",
       "      <td>parquet</td>\n",
       "      <td>DataQualityAssessmentStage</td>\n",
       "      <td>2025-02-08 02:36:39</td>\n",
       "      <td>NaN</td>\n",
       "      <td>spark</td>\n",
       "      <td>True</td>\n",
       "      <td>False</td>\n",
       "      <td>Dataset Published to Repository</td>\n",
       "      <td>2025-02-08 04:55:38</td>\n",
       "      <td>2025-02-08 04:55:38</td>\n",
       "    </tr>\n",
       "  </tbody>\n",
       "</table>\n",
       "</div>"
      ],
      "text/plain": [
       "                             asset_id                   phase  \\\n",
       "0         dataprep_raw_dataset_review  Data Preparation Phase   \n",
       "0  dataprep_preprocess_dataset_review  Data Preparation Phase   \n",
       "0         dataprep_dqa_dataset_review  Data Preparation Phase   \n",
       "\n",
       "                           stage    name  \\\n",
       "0                 Raw Data Stage  review   \n",
       "0       Data Preprocessing Stage  review   \n",
       "0  Data Quality Assessment Stage  review   \n",
       "\n",
       "                                         description file_format  \\\n",
       "0  Dataset review created in the Data Preparation...     parquet   \n",
       "0  Dataset review created from dataprep_raw_datas...     parquet   \n",
       "0  Dataset review created from dataprep_preproces...     parquet   \n",
       "\n",
       "                      creator              created source  dftype  published  \\\n",
       "0                    AppVoCAI  2025-02-03 18:46:56   None  pandas       True   \n",
       "0             PreprocessStage  2025-02-03 18:50:03   None  pandas       True   \n",
       "0  DataQualityAssessmentStage  2025-02-08 02:36:39    NaN   spark       True   \n",
       "\n",
       "   consumed                           status             modified  \\\n",
       "0      True                 Dataset Consumed  2025-02-03 18:50:49   \n",
       "0      True                 Dataset Consumed  2025-02-08 03:35:27   \n",
       "0     False  Dataset Published to Repository  2025-02-08 04:55:38   \n",
       "\n",
       "              accessed  \n",
       "0  2025-02-03 18:48:48  \n",
       "0  2025-02-08 02:34:58  \n",
       "0  2025-02-08 04:55:38  "
      ]
     },
     "execution_count": 3,
     "metadata": {},
     "output_type": "execute_result"
    }
   ],
   "source": [
    "# Instantiate the repository\n",
    "repo = container.io.repo()\n",
    "repo.registry"
   ]
  },
  {
   "cell_type": "code",
   "execution_count": 4,
   "metadata": {},
   "outputs": [
    {
     "name": "stderr",
     "output_type": "stream",
     "text": [
      "[02/08/2025 05:01:19 AM] [WARNING] [genailab.infra.persist.repo.dataset.DatasetRepo] [remove] : Attempting to remove a dataset dataprep_sentiment_dataset_review, that does not exist.\n"
     ]
    }
   ],
   "source": [
    "repo.remove(asset_id=\"dataprep_sentiment_dataset_review\")"
   ]
  }
 ],
 "metadata": {
  "kernelspec": {
   "display_name": "genai",
   "language": "python",
   "name": "python3"
  },
  "language_info": {
   "codemirror_mode": {
    "name": "ipython",
    "version": 3
   },
   "file_extension": ".py",
   "mimetype": "text/x-python",
   "name": "python",
   "nbconvert_exporter": "python",
   "pygments_lexer": "ipython3",
   "version": "3.8.20"
  }
 },
 "nbformat": 4,
 "nbformat_minor": 2
}
